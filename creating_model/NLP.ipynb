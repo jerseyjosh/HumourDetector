{
 "cells": [
  {
   "cell_type": "markdown",
   "id": "37d99d41",
   "metadata": {},
   "source": [
    "# Natural Language Processing"
   ]
  },
  {
   "cell_type": "markdown",
   "id": "4e1a76e7",
   "metadata": {},
   "source": [
    "We will be exploring some basic methods in natural language processing on the dataset given by [Issa Annamoradnejad & Gohar Zoghi](https://arxiv.org/abs/2004.12765). The dataset consists of 20,000 tweets that are split evenly between humourous and non-humourous.\n",
    "\n",
    "***CONFESSION:*** Towards the end of this project I note an important mistake in my method that I then correct, although I believe it is helpful in highlighting the importance of a proper workflow and clear pipeline in data handling."
   ]
  },
  {
   "cell_type": "code",
   "execution_count": 15,
   "id": "cec4c1c0",
   "metadata": {},
   "outputs": [],
   "source": [
    "import os\n",
    "import string\n",
    "import numpy as np\n",
    "import pandas as pd\n",
    "import nltk\n",
    "from sklearn.metrics import accuracy_score\n",
    "from sklearn.model_selection import train_test_split\n",
    "from sklearn.neural_network import MLPClassifier"
   ]
  },
  {
   "cell_type": "markdown",
   "id": "f4f4c3dc",
   "metadata": {},
   "source": [
    "Below shows the format of the data we are provided."
   ]
  },
  {
   "cell_type": "code",
   "execution_count": 16,
   "id": "3a23a2c5",
   "metadata": {},
   "outputs": [
    {
     "data": {
      "text/html": [
       "<div>\n",
       "<style scoped>\n",
       "    .dataframe tbody tr th:only-of-type {\n",
       "        vertical-align: middle;\n",
       "    }\n",
       "\n",
       "    .dataframe tbody tr th {\n",
       "        vertical-align: top;\n",
       "    }\n",
       "\n",
       "    .dataframe thead th {\n",
       "        text-align: right;\n",
       "    }\n",
       "</style>\n",
       "<table border=\"1\" class=\"dataframe\">\n",
       "  <thead>\n",
       "    <tr style=\"text-align: right;\">\n",
       "      <th></th>\n",
       "      <th>text</th>\n",
       "      <th>humor</th>\n",
       "    </tr>\n",
       "  </thead>\n",
       "  <tbody>\n",
       "    <tr>\n",
       "      <th>0</th>\n",
       "      <td>Joe biden rules out 2020 bid: 'guys, i'm not r...</td>\n",
       "      <td>False</td>\n",
       "    </tr>\n",
       "    <tr>\n",
       "      <th>1</th>\n",
       "      <td>Watch: darvish gave hitter whiplash with slow ...</td>\n",
       "      <td>False</td>\n",
       "    </tr>\n",
       "    <tr>\n",
       "      <th>2</th>\n",
       "      <td>What do you call a turtle without its shell? d...</td>\n",
       "      <td>True</td>\n",
       "    </tr>\n",
       "    <tr>\n",
       "      <th>3</th>\n",
       "      <td>5 reasons the 2016 election feels so personal</td>\n",
       "      <td>False</td>\n",
       "    </tr>\n",
       "    <tr>\n",
       "      <th>4</th>\n",
       "      <td>Pasco police shot mexican migrant from behind,...</td>\n",
       "      <td>False</td>\n",
       "    </tr>\n",
       "  </tbody>\n",
       "</table>\n",
       "</div>"
      ],
      "text/plain": [
       "                                                text  humor\n",
       "0  Joe biden rules out 2020 bid: 'guys, i'm not r...  False\n",
       "1  Watch: darvish gave hitter whiplash with slow ...  False\n",
       "2  What do you call a turtle without its shell? d...   True\n",
       "3      5 reasons the 2016 election feels so personal  False\n",
       "4  Pasco police shot mexican migrant from behind,...  False"
      ]
     },
     "execution_count": 16,
     "metadata": {},
     "output_type": "execute_result"
    }
   ],
   "source": [
    "tweetData = pd.read_csv(\"dataset.csv\")\n",
    "tweetData.head()"
   ]
  },
  {
   "cell_type": "markdown",
   "id": "177072a2",
   "metadata": {},
   "source": [
    "Normalizing and encoding text for natural language processing looks like the following in its most crude form, using one-hot-vector encoding and ignoring any \"stop-words\" or tokens consisting of more than one word that make be worth considering. The text is stripped of all punctuation and put in lowercase."
   ]
  },
  {
   "cell_type": "code",
   "execution_count": 17,
   "id": "b8373be1",
   "metadata": {},
   "outputs": [],
   "source": [
    "class Vectorizer:\n",
    "    \n",
    "        def standardize(self, text):\n",
    "            text = text.lower()\n",
    "            return ''.join([char for char in text if char not in string.punctuation])\n",
    "        \n",
    "        def tokenize(self, text):\n",
    "            text = self.standardize(text)\n",
    "            return text.split()\n",
    "        \n",
    "        def makeVocabulary(self, dataset):\n",
    "            self.vocabulary = {\"\": 0, \"UNK\": 1}\n",
    "            for text in dataset:\n",
    "                text = self.standardize(text)\n",
    "                tokens = self.tokenize(text)\n",
    "                for token in tokens:\n",
    "                    if token not in self.vocabulary:\n",
    "                        self.vocabulary[token] = len(self.vocabulary)\n",
    "            self.inverseVocabulary = dict((v,k) for k,v in self.vocabulary.items())\n",
    "            \n",
    "        def encode(self, text):\n",
    "            text = self.standardize(text)\n",
    "            tokens = self.tokenize(text)\n",
    "            return [self.vocabulary.get(token, 1) for token in tokens]\n",
    "        \n",
    "        def decode(self, integerSequence):\n",
    "            return \" \".join(self.inverseVocabulary.get(i, \"UNK\") for i in integerSequence)"
   ]
  },
  {
   "cell_type": "code",
   "execution_count": 18,
   "id": "3189693f",
   "metadata": {},
   "outputs": [],
   "source": [
    "vectorizer = Vectorizer()\n",
    "vectorizer.makeVocabulary(tweetData['text'])"
   ]
  },
  {
   "cell_type": "code",
   "execution_count": 19,
   "id": "59a32b9b",
   "metadata": {},
   "outputs": [],
   "source": [
    "tweetInputs = [vectorizer.encode(tweetData['text'][i]) for i in range(len(tweetData))]\n",
    "tweetOutputs = tweetData['humor']"
   ]
  },
  {
   "cell_type": "markdown",
   "id": "0dd232ca",
   "metadata": {},
   "source": [
    "Here is how our text is encoded."
   ]
  },
  {
   "cell_type": "code",
   "execution_count": 20,
   "id": "8b6e12b8",
   "metadata": {},
   "outputs": [
    {
     "name": "stdout",
     "output_type": "stream",
     "text": [
      "Encoded:  [4271, 4489, 11933, 12023, 289, 8160, 98, 870, 511, 684, 169]\n",
      "Decoded:  natural ball lightning recorded by scientists for first time ever video\n",
      "Humorous: False\n"
     ]
    }
   ],
   "source": [
    "print(f\"Encoded:  {tweetInputs[10000]}\")\n",
    "print(f\"Decoded:  {vectorizer.decode(tweetInputs[10000])}\")\n",
    "print(f\"Humorous: {tweetOutputs[10000]}\")"
   ]
  },
  {
   "cell_type": "markdown",
   "id": "cbb326d5",
   "metadata": {},
   "source": [
    "# SKLearn Implementation"
   ]
  },
  {
   "cell_type": "markdown",
   "id": "791374cf",
   "metadata": {},
   "source": [
    "We load the data fresh again, and split into a training and testing set."
   ]
  },
  {
   "cell_type": "code",
   "execution_count": 37,
   "id": "aea62250",
   "metadata": {},
   "outputs": [],
   "source": [
    "tweetData = pd.read_csv(\"dataset.csv\")\n",
    "\n",
    "tweetInputs = tweetData['text']\n",
    "tweetOutputs = tweetData['humor']\n",
    "\n",
    "tweetInputsTrain, tweetInputsTest, tweetOutputsTrain, tweetOutputsTest = train_test_split(tweetInputs, tweetOutputs,\n",
    "                                                                                         test_size=0.3, random_state=1)"
   ]
  },
  {
   "cell_type": "code",
   "execution_count": 38,
   "id": "4b3f2dc5",
   "metadata": {},
   "outputs": [],
   "source": [
    "from sklearn.feature_extraction.text import CountVectorizer"
   ]
  },
  {
   "cell_type": "code",
   "execution_count": 39,
   "id": "ba1ffeea",
   "metadata": {},
   "outputs": [],
   "source": [
    "countVectorizer = CountVectorizer()\n",
    "tweetInputsTrain = countVectorizer.fit_transform(tweetInputsTrain)\n",
    "tweetInputsTest = countVectorizer.transform(tweetInputsTest)"
   ]
  },
  {
   "cell_type": "markdown",
   "id": "2c227d4f",
   "metadata": {},
   "source": [
    "And we train a multilayer perceptron model using mostly the default parameters."
   ]
  },
  {
   "cell_type": "code",
   "execution_count": 40,
   "id": "877fa08a",
   "metadata": {
    "scrolled": true
   },
   "outputs": [
    {
     "name": "stdout",
     "output_type": "stream",
     "text": [
      "Iteration 1, loss = 0.64827901\n",
      "Iteration 2, loss = 0.42578289\n",
      "Iteration 3, loss = 0.30574905\n",
      "Iteration 4, loss = 0.23189024\n",
      "Iteration 5, loss = 0.18568592\n",
      "Iteration 6, loss = 0.15521202\n",
      "Iteration 7, loss = 0.13443431\n",
      "Iteration 8, loss = 0.11918007\n",
      "Iteration 9, loss = 0.10737159\n",
      "Iteration 10, loss = 0.09671477\n",
      "Iteration 11, loss = 0.08779935\n",
      "Iteration 12, loss = 0.08032873\n",
      "Iteration 13, loss = 0.07336442\n",
      "Iteration 14, loss = 0.06734070\n",
      "Iteration 15, loss = 0.06210211\n",
      "Iteration 16, loss = 0.05700508\n",
      "Iteration 17, loss = 0.05275607\n",
      "Iteration 18, loss = 0.04925724\n",
      "Iteration 19, loss = 0.04607141\n",
      "Iteration 20, loss = 0.04334154\n",
      "Iteration 21, loss = 0.04129612\n",
      "Iteration 22, loss = 0.03940484\n",
      "Iteration 23, loss = 0.03759594\n",
      "Iteration 24, loss = 0.03601476\n",
      "Iteration 25, loss = 0.03560125\n",
      "Iteration 26, loss = 0.03476642\n",
      "Iteration 27, loss = 0.03440544\n",
      "Iteration 28, loss = 0.03365059\n",
      "Iteration 29, loss = 0.03358989\n",
      "Iteration 30, loss = 0.03378755\n",
      "Iteration 31, loss = 0.03352766\n",
      "Iteration 32, loss = 0.03357400\n",
      "Iteration 33, loss = 0.03306126\n",
      "Iteration 34, loss = 0.03199242\n",
      "Iteration 35, loss = 0.03234882\n",
      "Iteration 36, loss = 0.03202837\n",
      "Iteration 37, loss = 0.03221679\n",
      "Iteration 38, loss = 0.03220099\n",
      "Iteration 39, loss = 0.03189462\n",
      "Iteration 40, loss = 0.03179862\n",
      "Iteration 41, loss = 0.03263581\n",
      "Iteration 42, loss = 0.03275678\n",
      "Iteration 43, loss = 0.03144705\n",
      "Iteration 44, loss = 0.03184479\n",
      "Iteration 45, loss = 0.03181901\n",
      "Iteration 46, loss = 0.03138293\n",
      "Iteration 47, loss = 0.03139334\n",
      "Iteration 48, loss = 0.03167844\n",
      "Iteration 49, loss = 0.03190246\n",
      "Iteration 50, loss = 0.03151956\n",
      "Iteration 51, loss = 0.03141103\n",
      "Iteration 52, loss = 0.03112802\n",
      "Iteration 53, loss = 0.03067035\n",
      "Iteration 54, loss = 0.03133731\n",
      "Iteration 55, loss = 0.03134538\n",
      "Iteration 56, loss = 0.03117675\n",
      "Iteration 57, loss = 0.03106716\n",
      "Iteration 58, loss = 0.03034917\n",
      "Iteration 59, loss = 0.03000051\n",
      "Iteration 60, loss = 0.03080785\n",
      "Iteration 61, loss = 0.03062957\n",
      "Iteration 62, loss = 0.03088939\n",
      "Iteration 63, loss = 0.03058945\n",
      "Iteration 64, loss = 0.03031318\n",
      "Iteration 65, loss = 0.03039053\n",
      "Iteration 66, loss = 0.02999184\n",
      "Iteration 67, loss = 0.03074482\n",
      "Iteration 68, loss = 0.03050392\n",
      "Iteration 69, loss = 0.03157379\n",
      "Iteration 70, loss = 0.03122362\n",
      "Training loss did not improve more than tol=0.000100 for 10 consecutive epochs. Stopping.\n",
      "CPU times: user 2min 14s, sys: 5min 36s, total: 7min 51s\n",
      "Wall time: 1min 18s\n"
     ]
    }
   ],
   "source": [
    "%%time\n",
    "mlpClassifier = MLPClassifier(hidden_layer_sizes=(5, 2), verbose=True, random_state=1).fit(tweetInputsTrain, tweetOutputsTrain)"
   ]
  },
  {
   "cell_type": "code",
   "execution_count": 43,
   "id": "fce300f7",
   "metadata": {
    "scrolled": true
   },
   "outputs": [
    {
     "name": "stdout",
     "output_type": "stream",
     "text": [
      "Training Accuracy: 99.42%\n",
      "Testing Accuracy:  90.53%\n"
     ]
    }
   ],
   "source": [
    "tweetOutputsTrainPredictions = mlpClassifier.predict(tweetInputsTrain)\n",
    "tweetOutputsTestPredictions = mlpClassifier.predict(tweetInputsTest)\n",
    "\n",
    "mlpTrainAccuracy = accuracy_score(tweetOutputsTrain, tweetOutputsTrainPredictions)\n",
    "mlpTestAccuracy = accuracy_score(tweetOutputsTest, tweetOutputsTestPredictions)\n",
    "print(f\"Training Accuracy: {mlpTrainAccuracy*100:.2f}%\")\n",
    "print(f\"Testing Accuracy:  {mlpTestAccuracy*100:.2f}%\")"
   ]
  },
  {
   "cell_type": "markdown",
   "id": "b2664b54",
   "metadata": {},
   "source": [
    "This is already fairly impressive testing accuracy, although we attempt to improve."
   ]
  },
  {
   "cell_type": "markdown",
   "id": "7f272930",
   "metadata": {},
   "source": [
    "## Including 2-grams"
   ]
  },
  {
   "cell_type": "markdown",
   "id": "3397c4f4",
   "metadata": {},
   "source": [
    "We repeat the process as before but specify that we want to include pairs of words as tokens as well as individual words."
   ]
  },
  {
   "cell_type": "code",
   "execution_count": 45,
   "id": "ecb41432",
   "metadata": {},
   "outputs": [],
   "source": [
    "countVectorizer2Gram = CountVectorizer(ngram_range=(1, 2))\n",
    "\n",
    "\n",
    "tweetInputs2GramTrain, tweetInputs2GramTest, tweetOutputs2GramTrain, tweetOutputs2GramTest = train_test_split(tweetInputs, tweetOutputs,\n",
    "                                                                                                              test_size=0.3, random_state=1)\n",
    "\n",
    "tweetInputs2GramTrain = countVectorizer2Gram.fit_transform(tweetInputs2GramTrain)\n",
    "tweetInputs2GramTest = countVectorizer2Gram.transform(tweetInputs2GramTest)"
   ]
  },
  {
   "cell_type": "code",
   "execution_count": 46,
   "id": "5af2c18b",
   "metadata": {
    "scrolled": false
   },
   "outputs": [
    {
     "name": "stdout",
     "output_type": "stream",
     "text": [
      "Iteration 1, loss = 0.30285233\n",
      "Iteration 2, loss = 0.06046688\n",
      "Iteration 3, loss = 0.01420572\n",
      "Iteration 4, loss = 0.00463366\n",
      "Iteration 5, loss = 0.00224081\n",
      "Iteration 6, loss = 0.00134074\n",
      "Iteration 7, loss = 0.00100102\n",
      "Iteration 8, loss = 0.00082295\n",
      "Iteration 9, loss = 0.00070468\n",
      "Iteration 10, loss = 0.00061343\n",
      "Iteration 11, loss = 0.00053667\n",
      "Iteration 12, loss = 0.00046869\n",
      "Iteration 13, loss = 0.00040869\n",
      "Iteration 14, loss = 0.00035788\n",
      "Iteration 15, loss = 0.00032199\n",
      "Iteration 16, loss = 0.00070992\n",
      "Iteration 17, loss = 0.00437076\n",
      "Iteration 18, loss = 0.00336364\n",
      "Iteration 19, loss = 0.00131150\n",
      "Iteration 20, loss = 0.00062304\n",
      "Training loss did not improve more than tol=0.000100 for 10 consecutive epochs. Stopping.\n",
      "CPU times: user 9min 35s, sys: 25min 46s, total: 35min 21s\n",
      "Wall time: 4min 56s\n"
     ]
    }
   ],
   "source": [
    "%%time\n",
    "mlpClassifier2Gram = MLPClassifier(hidden_layer_sizes=(5, 2), verbose=True, random_state=1).fit(tweetInputs2GramTrain, tweetOutputs2GramTrain)"
   ]
  },
  {
   "cell_type": "code",
   "execution_count": 48,
   "id": "92262b71",
   "metadata": {},
   "outputs": [
    {
     "name": "stdout",
     "output_type": "stream",
     "text": [
      "Training Accuracy: 100.00%\n",
      "Testing Accuracy:  94.20%\n"
     ]
    }
   ],
   "source": [
    "tweetOutputs2GramTrainPredictions = mlpClassifier2Gram.predict(tweetInputs2GramTrain)\n",
    "tweetOutputs2GramTestPredictions = mlpClassifier2Gram.predict(tweetInputs2GramTest)\n",
    "\n",
    "mlp2GramTrainAccuracy = accuracy_score(tweetOutputs2GramTrain, tweetOutputs2GramTrainPredictions)\n",
    "mlp2GramTestAccuracy = accuracy_score(tweetOutputs2GramTest, tweetOutputs2GramTestPredictions)\n",
    "\n",
    "print(f\"Training Accuracy: {mlp2GramTrainAccuracy*100:.2f}%\")\n",
    "print(f\"Testing Accuracy:  {mlp2GramTestAccuracy*100:.2f}%\")"
   ]
  },
  {
   "cell_type": "code",
   "execution_count": 68,
   "id": "230a9cf8",
   "metadata": {},
   "outputs": [
    {
     "name": "stdout",
     "output_type": "stream",
     "text": [
      "\n",
      "tweet: My boyfriend (25) just asked if I (27) had internet in high school 😐\n",
      "\n",
      "Humorous: [ True]\n"
     ]
    }
   ],
   "source": [
    "sampleText = [\"My boyfriend (25) just asked if I (27) had internet in high school 😐\"]\n",
    "encodedSampleText = countVectorizer2Gram.transform(sampleText)\n",
    "\n",
    "sampleTextPrediction = mlpClassifier2Gram.predict(encodedSampleText)\n",
    "print('')\n",
    "print(\"tweet: \" + sampleText[0])\n",
    "print('')\n",
    "print(f'Humorous: {sampleTextPrediction}')"
   ]
  },
  {
   "cell_type": "markdown",
   "id": "38f9963d",
   "metadata": {},
   "source": [
    "## Discluding Stop-Words"
   ]
  },
  {
   "cell_type": "markdown",
   "id": "c60ab4d6",
   "metadata": {},
   "source": [
    "Sometimes discluding the \"meaningless\" English words can improve accuracy in NLP, so we attempt that. We can see the list of what **nltk.corpus** considers stopwords."
   ]
  },
  {
   "cell_type": "code",
   "execution_count": 69,
   "id": "66fa2f1c",
   "metadata": {},
   "outputs": [
    {
     "name": "stdout",
     "output_type": "stream",
     "text": [
      "['i', 'me', 'my', 'myself', 'we', 'our', 'ours', 'ourselves', 'you', \"you're\", \"you've\", \"you'll\", \"you'd\", 'your', 'yours', 'yourself', 'yourselves', 'he', 'him', 'his', 'himself', 'she', \"she's\", 'her', 'hers', 'herself', 'it', \"it's\", 'its', 'itself', 'they', 'them', 'their', 'theirs', 'themselves', 'what', 'which', 'who', 'whom', 'this', 'that', \"that'll\", 'these', 'those', 'am', 'is', 'are', 'was', 'were', 'be', 'been', 'being', 'have', 'has', 'had', 'having', 'do', 'does', 'did', 'doing', 'a', 'an', 'the', 'and', 'but', 'if', 'or', 'because', 'as', 'until', 'while', 'of', 'at', 'by', 'for', 'with', 'about', 'against', 'between', 'into', 'through', 'during', 'before', 'after', 'above', 'below', 'to', 'from', 'up', 'down', 'in', 'out', 'on', 'off', 'over', 'under', 'again', 'further', 'then', 'once', 'here', 'there', 'when', 'where', 'why', 'how', 'all', 'any', 'both', 'each', 'few', 'more', 'most', 'other', 'some', 'such', 'no', 'nor', 'not', 'only', 'own', 'same', 'so', 'than', 'too', 'very', 's', 't', 'can', 'will', 'just', 'don', \"don't\", 'should', \"should've\", 'now', 'd', 'll', 'm', 'o', 're', 've', 'y', 'ain', 'aren', \"aren't\", 'couldn', \"couldn't\", 'didn', \"didn't\", 'doesn', \"doesn't\", 'hadn', \"hadn't\", 'hasn', \"hasn't\", 'haven', \"haven't\", 'isn', \"isn't\", 'ma', 'mightn', \"mightn't\", 'mustn', \"mustn't\", 'needn', \"needn't\", 'shan', \"shan't\", 'shouldn', \"shouldn't\", 'wasn', \"wasn't\", 'weren', \"weren't\", 'won', \"won't\", 'wouldn', \"wouldn't\"]\n"
     ]
    }
   ],
   "source": [
    "from nltk.corpus import stopwords\n",
    "print(stopwords.words('english'))"
   ]
  },
  {
   "cell_type": "markdown",
   "id": "832357a4",
   "metadata": {},
   "source": [
    "We repeat the process, changing the **CountVectorizer** this time."
   ]
  },
  {
   "cell_type": "code",
   "execution_count": 75,
   "id": "305d08ce",
   "metadata": {},
   "outputs": [],
   "source": [
    "countVectorizerSW = CountVectorizer(stop_words='english', ngram_range=(1, 2))\n",
    "\n",
    "\n",
    "tweetInputsSWTrain, tweetInputsSWTest, tweetOutputsSWTrain, tweetOutputsSWTest = train_test_split(tweetInputs, tweetOutputs,\n",
    "                                                                                                  test_size=0.3)\n",
    "tweetInputsSWTrain = countVectorizerSW.fit_transform(tweetInputsSWTrain)\n",
    "tweetInputsSWTest = countVectorizerSW.transform(tweetInputsSWTest)"
   ]
  },
  {
   "cell_type": "code",
   "execution_count": 76,
   "id": "97db9ec1",
   "metadata": {
    "scrolled": true
   },
   "outputs": [
    {
     "name": "stdout",
     "output_type": "stream",
     "text": [
      "Iteration 1, loss = 0.51478466\n",
      "Iteration 2, loss = 0.23882981\n",
      "Iteration 3, loss = 0.12608518\n",
      "Iteration 4, loss = 0.08153086\n",
      "Iteration 5, loss = 0.06024237\n",
      "Iteration 6, loss = 0.04791384\n",
      "Iteration 7, loss = 0.04037567\n",
      "Iteration 8, loss = 0.03566328\n",
      "Iteration 9, loss = 0.03263673\n",
      "Iteration 10, loss = 0.03095977\n",
      "Iteration 11, loss = 0.02977958\n",
      "Iteration 12, loss = 0.02914170\n",
      "Iteration 13, loss = 0.02881695\n",
      "Iteration 14, loss = 0.02870196\n",
      "Iteration 15, loss = 0.02894281\n",
      "Iteration 16, loss = 0.02991293\n",
      "Iteration 17, loss = 0.03143998\n",
      "Iteration 18, loss = 0.03117024\n",
      "Iteration 19, loss = 0.03121214\n",
      "Iteration 20, loss = 0.03011543\n",
      "Iteration 21, loss = 0.02975607\n",
      "Iteration 22, loss = 0.02925274\n",
      "Iteration 23, loss = 0.02912234\n",
      "Iteration 24, loss = 0.02939570\n",
      "Iteration 25, loss = 0.02949033\n",
      "Training loss did not improve more than tol=0.000100 for 10 consecutive epochs. Stopping.\n",
      "CPU times: user 11min 18s, sys: 29min 21s, total: 40min 39s\n",
      "Wall time: 5min 51s\n"
     ]
    }
   ],
   "source": [
    "%%time\n",
    "mlpClassifierSW = MLPClassifier(hidden_layer_sizes=(5, 2), verbose=True).fit(tweetInputsSWTrain, tweetOutputsSWTrain)"
   ]
  },
  {
   "cell_type": "code",
   "execution_count": 77,
   "id": "847d77a6",
   "metadata": {},
   "outputs": [
    {
     "name": "stdout",
     "output_type": "stream",
     "text": [
      "Training Accuracy: 99.49%\n",
      "Testing Accuracy:  88.71%\n"
     ]
    }
   ],
   "source": [
    "tweetOutputsSWTrainPredictions = mlpClassifierSW.predict(tweetInputsSWTrain)\n",
    "tweetOutputsSWTestPredictions = mlpClassifierSW.predict(tweetInputsSWTest)\n",
    "\n",
    "mlpSWTrainAccuracy = accuracy_score(tweetOutputsSWTrain, tweetOutputsSWTrainPredictions)\n",
    "mlpSWTestAccuracy = accuracy_score(tweetOutputsSWTest, tweetOutputsSWTestPredictions)\n",
    "print(f\"Training Accuracy: {mlpSWTrainAccuracy*100:.2f}%\")\n",
    "print(f\"Testing Accuracy:  {mlpSWTestAccuracy*100:.2f}%\")"
   ]
  },
  {
   "cell_type": "markdown",
   "id": "850889f8",
   "metadata": {},
   "source": [
    "It appears stop words have quite a large impact on determining whether a tweet is funny or not, which makes sense as humour is largely semantic, with little specific vocabularly that indicates whether humour is present or not.\n",
    "\n",
    "This would be less obvious if we were detecting for something with lots of specific vocabularly. If we wanted to see if a tweet was talking about mathematics or not we may see lots of *algebra* and *calculus* etc., so removing stopwords may allow machine learning algorithms to put more weight towards these rarer words that almost never show up in tweets unrelated to mathematics."
   ]
  },
  {
   "cell_type": "markdown",
   "id": "9a0cdb09",
   "metadata": {},
   "source": [
    "# Deploying model"
   ]
  },
  {
   "cell_type": "markdown",
   "id": "a0f90ee6",
   "metadata": {},
   "source": [
    "We want to **pickle** our best model down for deployment now so it can be saved for future use. We can include the data preprocessing as part of the model and save a whole pipeline to make it easy to plug in future strings we want to test."
   ]
  },
  {
   "cell_type": "code",
   "execution_count": 80,
   "id": "cbbc4bd1",
   "metadata": {},
   "outputs": [],
   "source": [
    "from sklearn.pipeline import Pipeline"
   ]
  },
  {
   "cell_type": "code",
   "execution_count": 82,
   "id": "3da32b0e",
   "metadata": {},
   "outputs": [
    {
     "name": "stdout",
     "output_type": "stream",
     "text": [
      "Iteration 1, loss = 0.30285233\n",
      "Iteration 2, loss = 0.06046688\n",
      "Iteration 3, loss = 0.01420572\n",
      "Iteration 4, loss = 0.00463366\n",
      "Iteration 5, loss = 0.00224081\n",
      "Iteration 6, loss = 0.00134074\n",
      "Iteration 7, loss = 0.00100102\n",
      "Iteration 8, loss = 0.00082295\n",
      "Iteration 9, loss = 0.00070468\n",
      "Iteration 10, loss = 0.00061343\n",
      "Iteration 11, loss = 0.00053667\n",
      "Iteration 12, loss = 0.00046869\n",
      "Iteration 13, loss = 0.00040869\n",
      "Iteration 14, loss = 0.00035788\n",
      "Iteration 15, loss = 0.00032199\n",
      "Iteration 16, loss = 0.00070992\n",
      "Iteration 17, loss = 0.00437076\n",
      "Iteration 18, loss = 0.00336364\n",
      "Iteration 19, loss = 0.00131150\n",
      "Iteration 20, loss = 0.00062304\n",
      "Training loss did not improve more than tol=0.000100 for 10 consecutive epochs. Stopping.\n",
      "CPU times: user 9min 51s, sys: 24min 47s, total: 34min 39s\n",
      "Wall time: 5min 7s\n"
     ]
    },
    {
     "data": {
      "text/plain": [
       "Pipeline(steps=[('vect', CountVectorizer(ngram_range=(1, 2))),\n",
       "                ('clf',\n",
       "                 MLPClassifier(hidden_layer_sizes=(5, 2), random_state=1,\n",
       "                               verbose=True))])"
      ]
     },
     "execution_count": 82,
     "metadata": {},
     "output_type": "execute_result"
    }
   ],
   "source": [
    "%%time\n",
    "\n",
    "tweetData = pd.read_csv('dataset.csv')\n",
    "\n",
    "tweetInputs = tweetData['text']\n",
    "tweetOutputs = tweetData['humor']\n",
    "\n",
    "tweetInputsTrain, tweetInputsTest, tweetOutputsTrain, tweetOutputsTest = train_test_split(tweetInputs, tweetOutputs,\n",
    "                                                                                         test_size=0.3, random_state=1)\n",
    "\n",
    "finalPipeline = Pipeline([\n",
    "    ('vect', CountVectorizer(ngram_range=(1,2))),\n",
    "    ('clf', MLPClassifier(hidden_layer_sizes=(5, 2), verbose=True, random_state=1))\n",
    "])\n",
    "\n",
    "finalPipeline.fit(tweetInputsTrain, tweetOutputsTrain)"
   ]
  },
  {
   "cell_type": "code",
   "execution_count": 84,
   "id": "65675261",
   "metadata": {},
   "outputs": [
    {
     "name": "stdout",
     "output_type": "stream",
     "text": [
      "Testing Accuracy: 94.20%\n"
     ]
    }
   ],
   "source": [
    "print(f\"Testing Accuracy: {finalPipeline.score(tweetInputsTest, tweetOutputsTest)*100:.2f}%\")"
   ]
  },
  {
   "cell_type": "markdown",
   "id": "dc3b9729",
   "metadata": {},
   "source": [
    "## Pickling Model"
   ]
  },
  {
   "cell_type": "code",
   "execution_count": 85,
   "id": "682fd057",
   "metadata": {},
   "outputs": [],
   "source": [
    "import joblib\n",
    "import pickle\n",
    "\n",
    "joblib.dump(finalPipeline, \"finalPipeline.joblib\")\n",
    "\n",
    "with open(\"finalPipeline.pickle\", \"wb\") as f:\n",
    "    pickle.dump(finalPipeline, f)"
   ]
  },
  {
   "cell_type": "code",
   "execution_count": 129,
   "id": "eba374e7",
   "metadata": {},
   "outputs": [
    {
     "name": "stdout",
     "output_type": "stream",
     "text": [
      "[ True]\n"
     ]
    }
   ],
   "source": [
    "with open(\"finalPipeline.pickle\", \"rb\") as f:\n",
    "    clf = pickle.load(f)\n",
    "\n",
    "sentence = \"what do you call a man\"\n",
    "print(clf.predict([sentence]))"
   ]
  },
  {
   "cell_type": "markdown",
   "id": "224e0323",
   "metadata": {},
   "source": [
    "# Benchmarking Other Models"
   ]
  },
  {
   "cell_type": "code",
   "execution_count": 101,
   "id": "92603d80",
   "metadata": {},
   "outputs": [],
   "source": [
    "from sklearn.linear_model import LogisticRegression\n",
    "from sklearn.naive_bayes import MultinomialNB\n",
    "from sklearn.ensemble import RandomForestClassifier\n",
    "from sklearn.svm import LinearSVC\n",
    "from sklearn.model_selection import cross_val_score\n",
    "import seaborn as sns\n",
    "import pandas as pd\n",
    "import matplotlib.pyplot as plt"
   ]
  },
  {
   "cell_type": "markdown",
   "id": "d9b9c813",
   "metadata": {},
   "source": [
    "**Warning**: The below took well over a day to run from CPU."
   ]
  },
  {
   "cell_type": "code",
   "execution_count": 102,
   "id": "f936d127",
   "metadata": {
    "collapsed": true
   },
   "outputs": [
    {
     "data": {
      "image/png": "[encoded data removed]",
      "text/plain": [
       "<Figure size 432x288 with 1 Axes>"
      ]
     },
     "metadata": {
      "needs_background": "light"
     },
     "output_type": "display_data"
    },
    {
     "data": {
      "image/png": "[encoded data removed]",
      "text/plain": [
       "<Figure size 576x576 with 1 Axes>"
      ]
     },
     "metadata": {
      "needs_background": "light"
     },
     "output_type": "display_data"
    }
   ],
   "source": [
    "models = [\n",
    "    MLPClassifier(hidden_layer_sizes=(5, 2), random_state=1),\n",
    "    RandomForestClassifier(random_state=1),\n",
    "    LinearSVC(random_state=1),\n",
    "    MultinomialNB(),\n",
    "]\n",
    "\n",
    "CV = 5\n",
    "cv_df = pd.DataFrame(index=range(CV * len(models)))\n",
    "entries = []\n",
    "\n",
    "tweetInputsVectorized = CountVectorizer(ngram_range=(1, 2)).fit_transform(tweetInputs)\n",
    "\n",
    "for model in models:\n",
    "    model_name = model.__class__.__name__\n",
    "    accuracies = cross_val_score(model, tweetInputsVectorized, tweetOutputs, scoring='accuracy', cv=CV)\n",
    "    for fold_idx, accuracy in enumerate(accuracies):\n",
    "        entries.append((model_name, fold_idx, accuracy))\n",
    "cv_df = pd.DataFrame(entries, columns=['model_name', 'fold_idx', 'accuracy'])"
   ]
  },
  {
   "cell_type": "code",
   "execution_count": 103,
   "id": "97d34955",
   "metadata": {},
   "outputs": [
    {
     "data": {
      "text/plain": [
       "<AxesSubplot:xlabel='model_name', ylabel='accuracy'>"
      ]
     },
     "execution_count": 103,
     "metadata": {},
     "output_type": "execute_result"
    },
    {
     "data": {
      "image/png": "[encoded data removed]",
      "text/plain": [
       "<Figure size 432x288 with 1 Axes>"
      ]
     },
     "metadata": {
      "needs_background": "light"
     },
     "output_type": "display_data"
    }
   ],
   "source": [
    "sns.boxplot(x='model_name', y='accuracy', data=cv_df)\n",
    "sns.stripplot(x='model_name', y='accuracy', data=cv_df, \n",
    "              size=8, jitter=True, edgecolor=\"gray\", linewidth=2)"
   ]
  },
  {
   "cell_type": "code",
   "execution_count": 104,
   "id": "e53db6ac",
   "metadata": {},
   "outputs": [
    {
     "data": {
      "text/html": [
       "<div>\n",
       "<style scoped>\n",
       "    .dataframe tbody tr th:only-of-type {\n",
       "        vertical-align: middle;\n",
       "    }\n",
       "\n",
       "    .dataframe tbody tr th {\n",
       "        vertical-align: top;\n",
       "    }\n",
       "\n",
       "    .dataframe thead th {\n",
       "        text-align: right;\n",
       "    }\n",
       "</style>\n",
       "<table border=\"1\" class=\"dataframe\">\n",
       "  <thead>\n",
       "    <tr style=\"text-align: right;\">\n",
       "      <th></th>\n",
       "      <th>model_name</th>\n",
       "      <th>fold_idx</th>\n",
       "      <th>accuracy</th>\n",
       "    </tr>\n",
       "  </thead>\n",
       "  <tbody>\n",
       "    <tr>\n",
       "      <th>0</th>\n",
       "      <td>MLPClassifier</td>\n",
       "      <td>0</td>\n",
       "      <td>0.935125</td>\n",
       "    </tr>\n",
       "    <tr>\n",
       "      <th>1</th>\n",
       "      <td>MLPClassifier</td>\n",
       "      <td>1</td>\n",
       "      <td>0.935975</td>\n",
       "    </tr>\n",
       "    <tr>\n",
       "      <th>2</th>\n",
       "      <td>MLPClassifier</td>\n",
       "      <td>2</td>\n",
       "      <td>0.937725</td>\n",
       "    </tr>\n",
       "    <tr>\n",
       "      <th>3</th>\n",
       "      <td>MLPClassifier</td>\n",
       "      <td>3</td>\n",
       "      <td>0.935600</td>\n",
       "    </tr>\n",
       "    <tr>\n",
       "      <th>4</th>\n",
       "      <td>MLPClassifier</td>\n",
       "      <td>4</td>\n",
       "      <td>0.935425</td>\n",
       "    </tr>\n",
       "    <tr>\n",
       "      <th>5</th>\n",
       "      <td>RandomForestClassifier</td>\n",
       "      <td>0</td>\n",
       "      <td>0.925925</td>\n",
       "    </tr>\n",
       "    <tr>\n",
       "      <th>6</th>\n",
       "      <td>RandomForestClassifier</td>\n",
       "      <td>1</td>\n",
       "      <td>0.923150</td>\n",
       "    </tr>\n",
       "    <tr>\n",
       "      <th>7</th>\n",
       "      <td>RandomForestClassifier</td>\n",
       "      <td>2</td>\n",
       "      <td>0.925350</td>\n",
       "    </tr>\n",
       "    <tr>\n",
       "      <th>8</th>\n",
       "      <td>RandomForestClassifier</td>\n",
       "      <td>3</td>\n",
       "      <td>0.923750</td>\n",
       "    </tr>\n",
       "    <tr>\n",
       "      <th>9</th>\n",
       "      <td>RandomForestClassifier</td>\n",
       "      <td>4</td>\n",
       "      <td>0.924800</td>\n",
       "    </tr>\n",
       "    <tr>\n",
       "      <th>10</th>\n",
       "      <td>LinearSVC</td>\n",
       "      <td>0</td>\n",
       "      <td>0.948250</td>\n",
       "    </tr>\n",
       "    <tr>\n",
       "      <th>11</th>\n",
       "      <td>LinearSVC</td>\n",
       "      <td>1</td>\n",
       "      <td>0.947700</td>\n",
       "    </tr>\n",
       "    <tr>\n",
       "      <th>12</th>\n",
       "      <td>LinearSVC</td>\n",
       "      <td>2</td>\n",
       "      <td>0.949325</td>\n",
       "    </tr>\n",
       "    <tr>\n",
       "      <th>13</th>\n",
       "      <td>LinearSVC</td>\n",
       "      <td>3</td>\n",
       "      <td>0.947175</td>\n",
       "    </tr>\n",
       "    <tr>\n",
       "      <th>14</th>\n",
       "      <td>LinearSVC</td>\n",
       "      <td>4</td>\n",
       "      <td>0.948175</td>\n",
       "    </tr>\n",
       "    <tr>\n",
       "      <th>15</th>\n",
       "      <td>MultinomialNB</td>\n",
       "      <td>0</td>\n",
       "      <td>0.937150</td>\n",
       "    </tr>\n",
       "    <tr>\n",
       "      <th>16</th>\n",
       "      <td>MultinomialNB</td>\n",
       "      <td>1</td>\n",
       "      <td>0.934150</td>\n",
       "    </tr>\n",
       "    <tr>\n",
       "      <th>17</th>\n",
       "      <td>MultinomialNB</td>\n",
       "      <td>2</td>\n",
       "      <td>0.938175</td>\n",
       "    </tr>\n",
       "    <tr>\n",
       "      <th>18</th>\n",
       "      <td>MultinomialNB</td>\n",
       "      <td>3</td>\n",
       "      <td>0.936300</td>\n",
       "    </tr>\n",
       "    <tr>\n",
       "      <th>19</th>\n",
       "      <td>MultinomialNB</td>\n",
       "      <td>4</td>\n",
       "      <td>0.936125</td>\n",
       "    </tr>\n",
       "  </tbody>\n",
       "</table>\n",
       "</div>"
      ],
      "text/plain": [
       "                model_name  fold_idx  accuracy\n",
       "0            MLPClassifier         0  0.935125\n",
       "1            MLPClassifier         1  0.935975\n",
       "2            MLPClassifier         2  0.937725\n",
       "3            MLPClassifier         3  0.935600\n",
       "4            MLPClassifier         4  0.935425\n",
       "5   RandomForestClassifier         0  0.925925\n",
       "6   RandomForestClassifier         1  0.923150\n",
       "7   RandomForestClassifier         2  0.925350\n",
       "8   RandomForestClassifier         3  0.923750\n",
       "9   RandomForestClassifier         4  0.924800\n",
       "10               LinearSVC         0  0.948250\n",
       "11               LinearSVC         1  0.947700\n",
       "12               LinearSVC         2  0.949325\n",
       "13               LinearSVC         3  0.947175\n",
       "14               LinearSVC         4  0.948175\n",
       "15           MultinomialNB         0  0.937150\n",
       "16           MultinomialNB         1  0.934150\n",
       "17           MultinomialNB         2  0.938175\n",
       "18           MultinomialNB         3  0.936300\n",
       "19           MultinomialNB         4  0.936125"
      ]
     },
     "execution_count": 104,
     "metadata": {},
     "output_type": "execute_result"
    }
   ],
   "source": [
    "cv_df"
   ]
  },
  {
   "cell_type": "markdown",
   "id": "fe82ff83",
   "metadata": {},
   "source": [
    "So perhaps in future, upgrading HumourDetector's brain to a LinearSVC model would be beneficial."
   ]
  },
  {
   "cell_type": "code",
   "execution_count": null,
   "id": "ae89663b",
   "metadata": {},
   "outputs": [],
   "source": []
  }
 ],
 "metadata": {
  "kernelspec": {
   "display_name": "nlp_venv",
   "language": "python",
   "name": "nlp_venv"
  },
  "language_info": {
   "codemirror_mode": {
    "name": "ipython",
    "version": 3
   },
   "file_extension": ".py",
   "mimetype": "text/x-python",
   "name": "python",
   "nbconvert_exporter": "python",
   "pygments_lexer": "ipython3",
   "version": "3.9.7"
  }
 },
 "nbformat": 4,
 "nbformat_minor": 5
}
